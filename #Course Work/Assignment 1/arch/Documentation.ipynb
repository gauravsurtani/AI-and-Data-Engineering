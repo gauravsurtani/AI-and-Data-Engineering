{
 "cells": [
  {
   "cell_type": "markdown",
   "id": "eb59ffcf",
   "metadata": {},
   "source": [
    "# Dijkstra's Algorithm Documentation"
   ]
  },
  {
   "cell_type": "markdown",
   "id": "2787fb6b",
   "metadata": {},
   "source": [
    "### Introduction"
   ]
  },
  {
   "cell_type": "markdown",
   "id": "6e11f13f",
   "metadata": {},
   "source": [
    "This document gives us documentation for the code implemented in this assignment. \n",
    "These are the variables used for this code:"
   ]
  },
  {
   "cell_type": "markdown",
   "id": "025941a3",
   "metadata": {},
   "source": [
    "\n",
    "Dictionary (self.graph): Used to represent the graph. Keys represent vertices, and values are lists of tuples representing the neighboring vertices and their corresponding edge weights.\n",
    "\n",
    "Dictionary (visited): Used in Dijkstra's algorithm to keep track of visited vertices.\n",
    "\n",
    "Dictionary (dist): Used in Dijkstra's algorithm to store the shortest distances from the start vertex to each vertex.\n",
    "\n",
    "Dictionary (parent): Used in Dijkstra's algorithm to store the parent vertices in the shortest path tree.\n",
    "\n",
    "List (visited_vertices): Used to keep track of visited vertices during the execution of Dijkstra's algorithm.\n",
    "\n",
    "List (path): Used to store the vertices in the shortest path.\n",
    "\n",
    "List (distances_between): Used to store distances between nodes on the path.\n"
   ]
  },
  {
   "cell_type": "code",
   "execution_count": null,
   "id": "e747c118",
   "metadata": {},
   "outputs": [],
   "source": []
  }
 ],
 "metadata": {
  "kernelspec": {
   "display_name": "Python 3 (ipykernel)",
   "language": "python",
   "name": "python3"
  },
  "language_info": {
   "codemirror_mode": {
    "name": "ipython",
    "version": 3
   },
   "file_extension": ".py",
   "mimetype": "text/x-python",
   "name": "python",
   "nbconvert_exporter": "python",
   "pygments_lexer": "ipython3",
   "version": "3.10.9"
  }
 },
 "nbformat": 4,
 "nbformat_minor": 5
}
